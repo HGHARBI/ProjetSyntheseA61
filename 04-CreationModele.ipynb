{
 "cells": [
  {
   "cell_type": "code",
   "execution_count": 3,
   "id": "d78e5432",
   "metadata": {},
   "outputs": [],
   "source": [
    "import os\n",
    "import cv2\n",
    "import numpy\n",
    "import pandas as pd\n",
    "import matplotlib.pyplot as plt\n",
    "import warnings\n",
    "\n",
    "from sklearn.ensemble import AdaBoostClassifier\n",
    "from sklearn.metrics import accuracy_score\n",
    "from sklearn.tree import DecisionTreeClassifier\n",
    "from sklearn.preprocessing import OneHotEncoder# LabelBinarizer\n",
    "from multi_AdaBoost import AdaBoostClassifier as Ada\n",
    "\n",
    "import tensorflow \n",
    "import tensorflow  as tf\n",
    "from tensorflow.keras.preprocessing.image import ImageDataGenerator\n",
    "from keras.models import Sequential\n",
    "from keras.layers import Dense, Dropout, Flatten\n",
    "from keras.layers import Activation\n",
    "from keras.layers import Conv2D, MaxPooling2D, Flatten, Dense, Conv1D, MaxPooling1D"
   ]
  },
  {
   "cell_type": "markdown",
   "id": "a0ff11a7",
   "metadata": {},
   "source": [
    "## 1) ADABOOST Neural Network"
   ]
  },
  {
   "cell_type": "code",
   "execution_count": 4,
   "id": "e2d0aa3c",
   "metadata": {},
   "outputs": [],
   "source": [
    "seed = 50\n",
    "numpy.random.seed(seed)\n",
    "tensorflow.random.set_seed(seed)\n",
    "def train_CNN(X_train=None, y_train=None, epochs=None, batch_size=None, X_test=None, y_test=None, n_features =10, seed =100):\n",
    "    ######ranome seed\n",
    "    numpy.random.seed(seed)\n",
    "    # set_random_seed(seed)\n",
    "    tensorflow.random.set_seed(seed)\n",
    "    \n",
    "    model = baseline_model(n_features, seed)\n",
    "    #reshape imput matrig to be compatibel to CNN\n",
    "    newshape=X_train.shape\n",
    "    newshape = list(newshape)\n",
    "    newshape.append(1)\n",
    "    newshape = tuple(newshape)\n",
    "    X_train_r = numpy.reshape(X_train, newshape)#reshat the trainig data to (2300, 10, 1) for CNN\n",
    "    \n",
    "    lb=OneHotEncoder(sparse=False)\n",
    "    y_train_b =y_train.reshape(len(y_train), 1)\n",
    "    y_train_b = lb.fit_transform(y_train_b)\n",
    "    #train CNN\n",
    "    numpy.random.seed(seed)\n",
    "    tensorflow.random.set_seed(seed)\n",
    "    # set_random_seed(seed)\n",
    "    model.fit(X_train_r, y_train_b, epochs=epochs, batch_size=batch_size)\n",
    "    \n",
    "    #####################reshap test data and evaluate:\n",
    "    newshape = X_test.shape\n",
    "    newshape = list(newshape)\n",
    "    newshape.append(1)\n",
    "    newshape = tuple(newshape)\n",
    "    X_test_r = numpy.reshape(X_test, newshape)\n",
    "    \n",
    "    lb=OneHotEncoder(sparse=False)\n",
    "    y_test_b = y_test.reshape(len(y_test),1)\n",
    "    y_test_b = lb.fit_transform(y_test_b)\n",
    "    \n",
    "    yp=model.evaluate(X_train_r, y_train_b)\n",
    "    print('\\nSingle CNN evaluation on training data, [loss, test_accuracy]:')\n",
    "    print(yp)\n",
    "\n",
    "    yp=model.evaluate(X_test_r, y_test_b)\n",
    "    print('\\nSingle CNN evaluation on testing data, [loss, test_accuracy]:')\n",
    "    print(yp)\n",
    "\n",
    "#####deep CNN\n",
    "def baseline_modelweak(n_features=10, seed=100):\n",
    "    numpy.random.seed(seed)\n",
    "    # set_random_seed(seed)\n",
    "    tensorflow.random.set_seed(seed)\n",
    "\t# create model\n",
    "    model = Sequential()\n",
    "    model.add(Conv1D(32, 3, padding = \"same\", input_shape=(n_features, 1)))\n",
    "    model.add(Activation('relu'))\n",
    "    model.add(MaxPooling1D(pool_size=2))\n",
    "    model.add(Dropout(0.2))\n",
    "\n",
    "    model.add(Flatten())\n",
    "    model.add(Dense(32, activation='relu'))#\n",
    "    model.add(Dense(n_classes))\n",
    "    \n",
    "    model.add(Activation('softmax'))\n",
    "\t# Compile model\n",
    "    numpy.random.seed(seed)\n",
    "    tensorflow.random.set_seed(seed)\n",
    "\n",
    "    model.compile(loss='categorical_crossentropy', optimizer='adagrad', metrics=['accuracy'])    \n",
    "    print (model.summary())\n",
    "    return model\n",
    "\n",
    "#####deep CNN\n",
    "def baseline_model(n_features=10, seed=100):\n",
    "    numpy.random.seed(seed)\n",
    "    # set_random_seed(seed)\n",
    "    tensorflow.random.set_seed(seed)\n",
    "\t# create model\n",
    "    model = Sequential()\n",
    "    model.add(Conv1D(32, 3, padding = \"same\", input_shape=(n_features, 1)))\n",
    "    model.add(Activation('relu'))\n",
    "    model.add(MaxPooling1D(pool_size=2))\n",
    "    model.add(Dropout(0.2))\n",
    "\n",
    "    model.add(Flatten())\n",
    "    model.add(Dense(64, activation='relu'))#\n",
    "    model.add(Dense(n_classes))\n",
    "    \n",
    "    model.add(Activation('softmax'))\n",
    "\t# Compile model\n",
    "    numpy.random.seed(seed)\n",
    "    tensorflow.random.set_seed(seed)\n",
    "\n",
    "    model.compile(loss='categorical_crossentropy', optimizer='adagrad', metrics=['accuracy'])    \n",
    "    print (model.summary())\n",
    "    return model\n",
    "\n",
    "def reshape_for_CNN(X):\n",
    "       ###########reshape input mak it to be compatibel to CNN\n",
    "       newshape=X.shape\n",
    "       newshape = list(newshape)\n",
    "       newshape.append(1)\n",
    "       newshape = tuple(newshape)\n",
    "       X_r = numpy.reshape(X, newshape)#reshat the trainig data to (2300, 10, 1) for CNN\n",
    "       return X_r"
   ]
  },
  {
   "cell_type": "markdown",
   "id": "4b6dc192",
   "metadata": {},
   "source": [
    "## 2) Chargement des images ( train et  test) et de  leur étiquettage (trainY0)"
   ]
  },
  {
   "cell_type": "code",
   "execution_count": 5,
   "id": "fc86f45f",
   "metadata": {
    "scrolled": false
   },
   "outputs": [
    {
     "name": "stdout",
     "output_type": "stream",
     "text": [
      "Found 4610 images belonging to 4 classes.\n",
      "Found 511 images belonging to 4 classes.\n",
      "Found 1279 images belonging to 4 classes.\n"
     ]
    }
   ],
   "source": [
    "IMG_SIZE_X = 32\n",
    "IMG_SIZE_Y = 32\n",
    "TARGET_SIZE = (IMG_SIZE_X, IMG_SIZE_Y)\n",
    "CLASSE  = ['NonDemented', 'VeryMildDemented', 'MildDemented', 'ModerateDemented'] \n",
    "\n",
    "INPUT_DIR = \"Data/Alzheimer_s Dataset/\"\n",
    "train_path = INPUT_DIR+ 'train/'\n",
    "test_path = INPUT_DIR+ '/test/'\n",
    "\n",
    "train_batches = ImageDataGenerator(validation_split=0.1) \\\n",
    "                .flow_from_directory(train_path,  \n",
    "                                     classes = ['NonDemented', 'VeryMildDemented', \n",
    "                                                'MildDemented', 'ModerateDemented'], target_size=TARGET_SIZE,\n",
    "                                     subset='training',\n",
    "                                     batch_size=10000)\n",
    "\n",
    "validation_batches = ImageDataGenerator(validation_split=0.1) \\\n",
    "                     .flow_from_directory(directory=train_path, target_size=TARGET_SIZE,\n",
    "                                          classes = ['NonDemented', 'VeryMildDemented', \n",
    "                                                     'MildDemented', 'ModerateDemented'], \n",
    "                                          subset='validation',\n",
    "                                          batch_size=10000)\n",
    "                \n",
    "test_batches = ImageDataGenerator() \\\n",
    "                    .flow_from_directory(directory=test_path, target_size=TARGET_SIZE,\n",
    "                                         classes = ['NonDemented', 'VeryMildDemented', \n",
    "                                                    'MildDemented', 'ModerateDemented'], \n",
    "                                         \n",
    "                                         batch_size=10000, \n",
    "                                         shuffle=False)\n",
    "\n",
    "trainX, trainY0  = train_batches.next()\n",
    "testX, testY0  = test_batches.next()\n",
    "\n",
    "#### STANDARISATION #####\n",
    "trainX= trainX/255\n",
    "testX = testX/255\n",
    "\n",
    "#### Concatémer le multi values en  colonne  #####\n",
    "s = pd.DataFrame(trainY0)\n",
    "y = pd.get_dummies(s).idxmax(1)\n",
    "trainY = y.to_numpy()\n",
    "\n",
    "s = pd.DataFrame(testY0)\n",
    "y = pd.get_dummies(s).idxmax(1)\n",
    "testY = y.to_numpy()\n",
    "\n",
    "#### FLATTEN #####\n",
    "trainflatX = trainX.reshape(-1, trainX.shape[1]*trainX.shape[2]*trainX.shape[3])\n",
    "testflatX = testX.reshape(-1, trainX.shape[1]*trainX.shape[2]*trainX.shape[3])"
   ]
  },
  {
   "cell_type": "markdown",
   "id": "2e89913b",
   "metadata": {},
   "source": [
    "## 3) Affichage "
   ]
  },
  {
   "cell_type": "code",
   "execution_count": 6,
   "id": "06072258",
   "metadata": {},
   "outputs": [
    {
     "data": {
      "text/plain": [
       "<Figure size 576x360 with 0 Axes>"
      ]
     },
     "execution_count": 6,
     "metadata": {},
     "output_type": "execute_result"
    },
    {
     "data": {
      "image/png": "[encoded data removed]",
      "text/plain": [
       "<Figure size 432x288 with 1 Axes>"
      ]
     },
     "metadata": {
      "needs_background": "light"
     },
     "output_type": "display_data"
    },
    {
     "data": {
      "text/plain": [
       "<Figure size 576x360 with 0 Axes>"
      ]
     },
     "metadata": {},
     "output_type": "display_data"
    }
   ],
   "source": [
    "plt.imshow(trainX[0])\n",
    "plt.figure(figsize=(8,5 ))"
   ]
  },
  {
   "cell_type": "markdown",
   "id": "b682c7d1",
   "metadata": {},
   "source": [
    "## 3) Generation du modele (bdt_real_test_CNN)"
   ]
  },
  {
   "cell_type": "code",
   "execution_count": null,
   "id": "61edfc8f",
   "metadata": {
    "scrolled": true
   },
   "outputs": [
    {
     "name": "stdout",
     "output_type": "stream",
     "text": [
      "Model: \"sequential\"\n",
      "_________________________________________________________________\n",
      " Layer (type)                Output Shape              Param #   \n",
      "=================================================================\n",
      " conv1d (Conv1D)             (None, 3072, 32)          128       \n",
      "                                                                 \n",
      " activation (Activation)     (None, 3072, 32)          0         \n",
      "                                                                 \n",
      " max_pooling1d (MaxPooling1D  (None, 1536, 32)         0         \n",
      " )                                                               \n",
      "                                                                 \n",
      " dropout (Dropout)           (None, 1536, 32)          0         \n",
      "                                                                 \n",
      " flatten (Flatten)           (None, 49152)             0         \n",
      "                                                                 \n",
      " dense (Dense)               (None, 32)                1572896   \n",
      "                                                                 \n",
      " dense_1 (Dense)             (None, 4)                 132       \n",
      "                                                                 \n",
      " activation_1 (Activation)   (None, 4)                 0         \n",
      "                                                                 \n",
      "=================================================================\n",
      "Total params: 1,573,156\n",
      "Trainable params: 1,573,156\n",
      "Non-trainable params: 0\n",
      "_________________________________________________________________\n",
      "None\n",
      "Weak Classifieur  0 10\n",
      "4610/4610 [==============================] - 82s 18ms/step - loss: 1.9820e-04 - accuracy: 0.5727\n",
      "145/145 [==============================] - 2s 10ms/step\n",
      "145/145 [==============================] - 1s 10ms/step\n",
      "Weak Classifieur  1 10\n",
      "4610/4610 [==============================] - 78s 17ms/step - loss: 2.2038e-04 - accuracy: 0.6735\n",
      "145/145 [==============================] - 2s 10ms/step\n",
      "145/145 [==============================] - 2s 11ms/step\n",
      "Weak Classifieur  2 10\n",
      "4610/4610 [==============================] - 78s 17ms/step - loss: 2.6420e-04 - accuracy: 0.5512\n",
      "145/145 [==============================] - 2s 11ms/step\n",
      "145/145 [==============================] - 2s 11ms/step\n",
      "Weak Classifieur  3 10\n",
      "2158/4610 [=============>................] - ETA: 41s - loss: 2.4227e-04 - accuracy: 0.6631"
     ]
    }
   ],
   "source": [
    "n_features=trainX.shape[1]*trainX.shape[2]*trainX.shape[3]\n",
    "n_classes=4\n",
    "\n",
    "X_train, y_train, X_test, y_test = trainflatX,trainY,testflatX,testY\n",
    "\n",
    "batch_size=1\n",
    "\n",
    "X_train_r = reshape_for_CNN(X_train)\n",
    "X_test_r = reshape_for_CNN(X_test)\n",
    "\n",
    "###########################################Adaboost+CNN:\n",
    "\n",
    "from multi_adaboost_CNN import AdaBoostClassifier as Ada_CNN\n",
    "\n",
    "n_estimators =10\n",
    "epochs =1\n",
    "bdt_real_test_CNN = Ada_CNN(\n",
    "    base_estimator=baseline_modelweak(n_features=n_features),\n",
    "    n_estimators=n_estimators,\n",
    "    learning_rate=1,\n",
    "    epochs=epochs)\n",
    "#######discreat:\n",
    "\n",
    "bdt_real_test_CNN.fit(X_train_r, y_train, batch_size)\n",
    "test_real_errors_CNN=bdt_real_test_CNN.estimator_errors_[:]\n",
    "\n",
    "\n",
    "y_pred_CNN = bdt_real_test_CNN.predict(X_train_r)\n",
    "print('\\n Training accuracy of bdt_real_test_CNN (AdaBoost+CNN): {}'.format(accuracy_score(bdt_real_test_CNN.predict(X_train_r),y_train)))\n",
    "\n",
    "y_pred_CNN = bdt_real_test_CNN.predict(X_test_r)\n",
    "print('\\n Testing accuracy of bdt_real_test_CNN (AdaBoost+CNN): {}'.format(accuracy_score(bdt_real_test_CNN.predict(X_test_r),y_test)))\n",
    "\n",
    "##########################################single CNN:\n",
    "\n",
    "train_CNN(X_train = X_train, y_train = y_train, epochs=n_estimators, \n",
    "          batch_size=batch_size ,X_test = X_test, y_test = y_test, \n",
    "          n_features=n_features, seed=seed)\n",
    "\n",
    "'''\n",
    "Refrence to the original AdaBoost(__author__ = 'Xin'):\n",
    "    \n",
    "Multi-class AdaBoosted Decision Trees:\n",
    "http://scikit-learn.org/stable/auto_examples/ensemble/plot_adaboost_multiclass.html\n",
    "'''"
   ]
  },
  {
   "cell_type": "markdown",
   "id": "a1b93e86",
   "metadata": {},
   "source": [
    "## 4) Sauvegarde des poids en hdf5 "
   ]
  },
  {
   "cell_type": "code",
   "execution_count": 2,
   "id": "5769cdf4",
   "metadata": {},
   "outputs": [
    {
     "ename": "NameError",
     "evalue": "name 'bdt_real_test_CNN' is not defined",
     "output_type": "error",
     "traceback": [
      "\u001b[1;31m---------------------------------------------------------------------------\u001b[0m",
      "\u001b[1;31mNameError\u001b[0m                                 Traceback (most recent call last)",
      "Input \u001b[1;32mIn [2]\u001b[0m, in \u001b[0;36m<cell line: 1>\u001b[1;34m()\u001b[0m\n\u001b[1;32m----> 1\u001b[0m \u001b[43mbdt_real_test_CNN\u001b[49m\u001b[38;5;241m.\u001b[39mmodel\u001b[38;5;241m.\u001b[39msave_weights(\u001b[38;5;124m\"\u001b[39m\u001b[38;5;124mmodel.h5\u001b[39m\u001b[38;5;124m\"\u001b[39m)\n",
      "\u001b[1;31mNameError\u001b[0m: name 'bdt_real_test_CNN' is not defined"
     ]
    }
   ],
   "source": [
    "bdt_real_test_CNN.model.save_weights(\"model.h5\")"
   ]
  }
 ],
 "metadata": {
  "kernelspec": {
   "display_name": "Python 3 (ipykernel)",
   "language": "python",
   "name": "python3"
  },
  "language_info": {
   "codemirror_mode": {
    "name": "ipython",
    "version": 3
   },
   "file_extension": ".py",
   "mimetype": "text/x-python",
   "name": "python",
   "nbconvert_exporter": "python",
   "pygments_lexer": "ipython3",
   "version": "3.9.12"
  }
 },
 "nbformat": 4,
 "nbformat_minor": 5
}
