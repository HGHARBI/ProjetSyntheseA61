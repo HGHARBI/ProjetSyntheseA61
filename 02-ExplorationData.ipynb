{
 "cells": [
  {
   "cell_type": "code",
   "execution_count": 2,
   "id": "791100a7",
   "metadata": {},
   "outputs": [],
   "source": [
    "from tensorflow.keras.preprocessing.image import ImageDataGenerator\n",
    "import matplotlib.pyplot as plt\n",
    "import pandas as pd "
   ]
  },
  {
   "cell_type": "markdown",
   "id": "bed66c14",
   "metadata": {},
   "source": [
    "## 1) Déclaration Arborescence\n"
   ]
  },
  {
   "cell_type": "code",
   "execution_count": 3,
   "id": "ad132216",
   "metadata": {},
   "outputs": [],
   "source": [
    "INPUT_DIR = \"Data/Alzheimer_s Dataset/\"\n",
    "BASE_TRAIN_DIR = INPUT_DIR + \"train/\"\n",
    "train_path = BASE_TRAIN_DIR"
   ]
  },
  {
   "cell_type": "markdown",
   "id": "ce0f4013",
   "metadata": {},
   "source": [
    "## 2) Chargement des images (trainX) et leur étiquettage (trainY0)"
   ]
  },
  {
   "cell_type": "code",
   "execution_count": 4,
   "id": "9ae6f5f9",
   "metadata": {
    "scrolled": true
   },
   "outputs": [
    {
     "name": "stdout",
     "output_type": "stream",
     "text": [
      "Found 4610 images belonging to 4 classes.\n"
     ]
    }
   ],
   "source": [
    "train_batches = ImageDataGenerator(validation_split=0.1) \\\n",
    "                .flow_from_directory(train_path,  \n",
    "                                     classes = ['NonDemented', 'VeryMildDemented', \n",
    "                                                'MildDemented', 'ModerateDemented'], target_size=(64,64),\n",
    "                                     subset='training',\n",
    "                                     batch_size=10000)\n",
    "trainX, trainY0  = train_batches.next()\n",
    "#### STANDARISATION #####\n",
    "trainX= trainX/255"
   ]
  },
  {
   "cell_type": "code",
   "execution_count": 5,
   "id": "399a2da8",
   "metadata": {},
   "outputs": [
    {
     "name": "stdout",
     "output_type": "stream",
     "text": [
      "Y est en hot encoder avec 4 colonnes, une pour chaque classe\n"
     ]
    },
    {
     "data": {
      "text/plain": [
       "array([[1., 0., 0., 0.],\n",
       "       [1., 0., 0., 0.],\n",
       "       [0., 1., 0., 0.],\n",
       "       ...,\n",
       "       [1., 0., 0., 0.],\n",
       "       [1., 0., 0., 0.],\n",
       "       [1., 0., 0., 0.]], dtype=float32)"
      ]
     },
     "metadata": {},
     "output_type": "display_data"
    },
    {
     "name": "stdout",
     "output_type": "stream",
     "text": [
      "#### Concatémer le multi values en  colonne  #####\n"
     ]
    },
    {
     "data": {
      "text/plain": [
       "array([0, 0, 1, ..., 0, 0, 0], dtype=int64)"
      ]
     },
     "metadata": {},
     "output_type": "display_data"
    }
   ],
   "source": [
    "print(\"Y est en hot encoder avec 4 colonnes, une pour chaque classe\")\n",
    "display(trainY0)\n",
    "print(\"#### Concatémer le multi values en  colonne  #####\")\n",
    "s = pd.DataFrame(trainY0)\n",
    "y = pd.get_dummies(s).idxmax(1)\n",
    "trainY = y.to_numpy()\n",
    "display(trainY)"
   ]
  },
  {
   "cell_type": "markdown",
   "id": "a442cc70",
   "metadata": {},
   "source": [
    "## 3) Exploration data "
   ]
  },
  {
   "cell_type": "code",
   "execution_count": 6,
   "id": "4b9d1423",
   "metadata": {
    "scrolled": true
   },
   "outputs": [
    {
     "data": {
      "text/plain": [
       "<function matplotlib.pyplot.show(close=None, block=None)>"
      ]
     },
     "execution_count": 6,
     "metadata": {},
     "output_type": "execute_result"
    },
    {
     "data": {
      "image/png": "[encoded data removed]",
      "text/plain": [
       "<Figure size 576x288 with 1 Axes>"
      ]
     },
     "metadata": {
      "needs_background": "light"
     },
     "output_type": "display_data"
    }
   ],
   "source": [
    "CLASSE  = ['NonDemented', 'VeryMildDemented', 'MildDemented', 'ModerateDemented'] \n",
    "#plot the samples count\n",
    "fig = plt.figure(figsize=(8, 4))\n",
    "ax = fig.add_axes([0,0,1,1])\n",
    "ax.bar(CLASSE,y.value_counts())\n",
    "plt.show"
   ]
  },
  {
   "cell_type": "markdown",
   "id": "cd12d48a",
   "metadata": {},
   "source": [
    "# Les données sont débalancées "
   ]
  }
 ],
 "metadata": {
  "kernelspec": {
   "display_name": "Python 3 (ipykernel)",
   "language": "python",
   "name": "python3"
  },
  "language_info": {
   "codemirror_mode": {
    "name": "ipython",
    "version": 3
   },
   "file_extension": ".py",
   "mimetype": "text/x-python",
   "name": "python",
   "nbconvert_exporter": "python",
   "pygments_lexer": "ipython3",
   "version": "3.9.12"
  }
 },
 "nbformat": 4,
 "nbformat_minor": 5
}
